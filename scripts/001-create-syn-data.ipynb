{
 "cells": [
  {
   "cell_type": "markdown",
   "metadata": {},
   "source": [
    "### Required packages"
   ]
  },
  {
   "cell_type": "code",
   "execution_count": 28,
   "metadata": {},
   "outputs": [],
   "source": [
    "from PIL import Image, ImageDraw, ImageFont\n",
    "import random\n",
    "import os  # Added for font path handling"
   ]
  },
  {
   "cell_type": "markdown",
   "metadata": {},
   "source": [
    "### Function to generate synthetic equation"
   ]
  },
  {
   "cell_type": "code",
   "execution_count": 32,
   "metadata": {},
   "outputs": [],
   "source": [
    "def generate_synthetic_equation(font_path, equation_text, image_size=(512, 128),\n",
    "                                background_color=(255, 255, 255), text_color=(0, 0, 0)):\n",
    "\n",
    "    # Ensure font path exists (optional for clarity)\n",
    "    if not os.path.exists(font_path):\n",
    "        raise ValueError(f\"Font path '{font_path}' does not exist.\")\n",
    "\n",
    "    # Create a blank image with the specified background color\n",
    "    image = Image.new('RGB', image_size, background_color)\n",
    "    draw = ImageDraw.Draw(image)\n",
    "\n",
    "    try:\n",
    "        # Load the custom font\n",
    "        font_size = random.randint(20, 30)\n",
    "        font = ImageFont.truetype(font_path, size=font_size)  # Adjust font size as needed\n",
    "\n",
    "        # Calculate the text width\n",
    "        text_width = draw.textlength(equation_text, font=font)\n",
    "\n",
    "        # Calculate the text height using the font metrics (assuming Pillow >= 8.0.0)\n",
    "        font_ascent, font_descent = font.getmetrics()\n",
    "        text_height = font_ascent - font_descent\n",
    "\n",
    "        # Center the text on the image\n",
    "        x = (image_size[0] - text_width) // 2\n",
    "        y = (image_size[1] - text_height) // 2\n",
    "\n",
    "        # Draw the text on the image\n",
    "        draw.text((x, y), equation_text, fill=text_color, font=font)\n",
    "\n",
    "    except OSError as e:\n",
    "        print(f\"Error loading font: {e}\")\n",
    "        # Handle font loading error (e.g., display a message, use a default font)\n",
    "\n",
    "    return image\n"
   ]
  },
  {
   "cell_type": "markdown",
   "metadata": {},
   "source": [
    "### For generating one equation"
   ]
  },
  {
   "cell_type": "code",
   "execution_count": 33,
   "metadata": {},
   "outputs": [],
   "source": [
    "# Update these with your custom font path and equation text\n",
    "font_path = \"HelloKetta.ttf\"  # Replace with your actual font path\n",
    "#font_path = \"Arial.ttf\"  # Replace with your actual font path\n",
    "equation_text = \"H2O + NaCl --> NaOH + HCl\"\n",
    "\n",
    "synthetic_image = generate_synthetic_equation(font_path, equation_text)\n",
    "synthetic_image.show()"
   ]
  },
  {
   "cell_type": "markdown",
   "metadata": {},
   "source": [
    "### For looping through many equations"
   ]
  },
  {
   "cell_type": "code",
   "execution_count": null,
   "metadata": {},
   "outputs": [],
   "source": [
    "# Update these with your custom font path\n",
    "font_path = \"path/to/your/custom/font.ttf\"\n",
    "\n",
    "# Define the number of equations to generate\n",
    "num_equations = 5\n",
    "\n",
    "for i in range(num_equations):\n",
    "    # Generate random equation text (replace with your logic if needed)\n",
    "    equation_text = f\"Equation {i+1}\"  # Placeholder, add equation generation logic\n",
    "    random_color = (random.randint(0, 255), random.randint(0, 255), random.randint(0, 255))\n",
    "\n",
    "    # Generate the image with random color\n",
    "    synthetic_image = generate_synthetic_equation(font_path, equation_text, background_color=(230, 230, 255), text_color=random_color)\n",
    "\n",
    "    # Optionally, save the image with a unique filename\n",
    "    synthetic_image.save(f\"equation_{i+1}.png\")\n",
    "\n",
    "    # Optional: Display the image (might slow down generation for many equations)\n",
    "    # synthetic_image.show()"
   ]
  },
  {
   "cell_type": "markdown",
   "metadata": {},
   "source": [
    "### Trying Subscript and Superscript"
   ]
  },
  {
   "cell_type": "code",
   "execution_count": 40,
   "metadata": {},
   "outputs": [],
   "source": [
    "from PIL import Image, ImageDraw, ImageFont\n",
    "import random\n",
    "import os\n",
    "\n",
    "def generate_synthetic_equation(font_path, equation_text, image_size=(512, 128),\n",
    "                                background_color=(255, 255, 255), text_color=(0, 0, 0)):\n",
    "\n",
    "    # Ensure font path exists (optional for clarity)\n",
    "    if not os.path.exists(font_path):\n",
    "        raise ValueError(f\"Font path '{font_path}' does not exist.\")\n",
    "\n",
    "    # Create a blank image with the specified background color\n",
    "    image = Image.new('RGB', image_size, background_color)\n",
    "    draw = ImageDraw.Draw(image)\n",
    "\n",
    "    try:\n",
    "        # Load the custom font\n",
    "        font = ImageFont.truetype(font_path, size=25)  # Adjust font size as needed\n",
    "\n",
    "        # Split equation text into lines with subscript/superscript markers\n",
    "        equation_lines = []\n",
    "        for char in equation_text:\n",
    "            if char == '_':\n",
    "                # Handle subscript: Create new sublist for uppercase characters\n",
    "                equation_lines.append([part.upper() for part in equation_lines.pop()])\n",
    "                equation_lines.append([char])\n",
    "            elif char == '^':\n",
    "                # Handle superscript: Append superscript character to a new sublist\n",
    "                equation_lines.append([equation_text[equation_text.index(char) + 1]])\n",
    "            else:\n",
    "                # Handle regular characters: Append to the last sublist (if it exists)\n",
    "                if equation_lines:  # Check if list is not empty\n",
    "                    equation_lines[-1].append(char)\n",
    "                else:\n",
    "                    # If list is empty, create a new sublist for the first character\n",
    "                    equation_lines.append([char])\n",
    "\n",
    "        # ... (rest of the code for calculating baseline text width, line heights, etc.)\n",
    "\n",
    "    except OSError as e:\n",
    "        print(f\"Error loading font: {e}\")\n",
    "        # Handle font loading error (e.g., display a message, use a default font)\n",
    "\n",
    "    return image\n",
    "\n",
    "# Update these with your custom font path\n",
    "font_path = \"Arial.ttf\"\n",
    "\n",
    "# Define the number of equations to generate\n",
    "num_equations = 5\n",
    "\n",
    "for i in range(num_equations):\n",
    "    # Generate random equation text with subscript/superscript markers (replace with your logic)\n",
    "    equation_text = f\"Equation_{i+1}O_2 + 2H_2 -> 2H_2O^{i+1}\"\n",
    "\n",
    "    # Generate the image\n",
    "    synthetic_image = generate_synthetic_equation(font_path, equation_text)\n",
    "\n",
    "    # Optionally, save the image with a unique filename\n",
    "    synthetic_image.save(f\"equation_{i+1}.png\")\n",
    "\n"
   ]
  },
  {
   "cell_type": "code",
   "execution_count": null,
   "metadata": {},
   "outputs": [],
   "source": []
  }
 ],
 "metadata": {
  "kernelspec": {
   "display_name": "synData",
   "language": "python",
   "name": "python3"
  },
  "language_info": {
   "name": "python",
   "version": "3.10.14"
  }
 },
 "nbformat": 4,
 "nbformat_minor": 2
}
