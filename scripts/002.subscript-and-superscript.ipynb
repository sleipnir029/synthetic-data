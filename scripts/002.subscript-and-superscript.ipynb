{
 "cells": [
  {
   "cell_type": "code",
   "execution_count": null,
   "metadata": {},
   "outputs": [],
   "source": [
    "import matplotlib.pyplot as plt\n",
    "from PIL import Image\n",
    "\n",
    "def generate_equation(equation_text):\n",
    "  \"\"\"\n",
    "  Generates a matplotlib figure with the given equation.\n",
    "  \"\"\"\n",
    "  fig, ax = plt.subplots()\n",
    "  ax.text(0.5, 0.5, equation_text, ha='center', va='center', fontsize=20)\n",
    "  ax.axis('off')  # Hide axes for a cleaner image\n",
    "  return fig\n",
    "\n",
    "def generate_equation_image(equation_text, filename=\"equation.png\", dpi=300):\n",
    "  \"\"\"\n",
    "  Generates an image of the equation using matplotlib and saves it.\n",
    "  \"\"\"\n",
    "  fig = generate_equation(equation_text)\n",
    "  fig.savefig(filename, dpi=dpi, bbox_inches='tight')  # Adjust DPI and bbox as needed\n",
    "  return Image.open(filename)  # Return the generated image\n",
    "\n",
    "# Example usage\n",
    "equation_text = r\"H$ _2$O + CO$ _2$ $\\longrightarrow$ H$ _2$O + O$ _2$\"  # Use raw strings for proper formatting\n",
    "\n",
    "# Generate and save the image\n",
    "equation_image = generate_equation_image(equation_text)\n",
    "equation_image.save(\"equation_with_image.png\")\n",
    "\n",
    "print(\"Equation image saved successfully!\")\n"
   ]
  },
  {
   "cell_type": "markdown",
   "metadata": {},
   "source": [
    "### New code"
   ]
  },
  {
   "cell_type": "code",
   "execution_count": 36,
   "metadata": {},
   "outputs": [
    {
     "name": "stderr",
     "output_type": "stream",
     "text": [
      "Font 'default' does not have a glyph for '+' [U+2b], substituting with a dummy symbol.\n",
      "Font 'default' does not have a glyph for '+' [U+2b], substituting with a dummy symbol.\n",
      "Font 'default' does not have a glyph for '+' [U+2b], substituting with a dummy symbol.\n",
      "Font 'default' does not have a glyph for '+' [U+2b], substituting with a dummy symbol.\n"
     ]
    },
    {
     "name": "stdout",
     "output_type": "stream",
     "text": [
      "Equation image saved successfully!\n"
     ]
    },
    {
     "data": {
      "image/png": "[encoded data removed]",
      "text/plain": [
       "<Figure size 640x480 with 1 Axes>"
      ]
     },
     "metadata": {},
     "output_type": "display_data"
    }
   ],
   "source": [
    "import matplotlib.pyplot as plt\n",
    "from PIL import Image\n",
    "from itertools import chain  # Import chain from itertools\n",
    "\n",
    "import matplotlib as mpl\n",
    "from pathlib import Path\n",
    "\n",
    "fpath = Path(mpl.get_data_path(), \"fonts/ttf/rzFont.ttf\")  # Just add the font in this directory C:\\Users\\User\\anaconda3\\envs\\synData\\Lib\\site-packages\\matplotlib\\mpl-data\\fonts\\ttf\n",
    "# fix link - https://matplotlib.org/stable/gallery/text_labels_and_annotations/font_file.html\n",
    "\n",
    "\n",
    "def generate_equation_image(equation_text, font_path, filename=\"rzFont.png\", dpi=300):\n",
    "  \"\"\"\n",
    "  Generates an image of the equation using matplotlib and saves it.\n",
    "  \"\"\"\n",
    "  fig, ax = plt.subplots()\n",
    "  #ax.text(0.5, 0.5, equation_text, ha='center', va='center', fontsize=20)\n",
    "  ax.axis('off')  # Hide axes for a cleaner image\n",
    "\n",
    "  # Set custom font for all axes elements using tick_params\n",
    "  ax.tick_params(labelfontfamily=font_path)\n",
    "\n",
    "  # Define fontpath before usage (assuming you have the path)\n",
    "  fontpath = font_path  # Replace with the actual path to your font file\n",
    "\n",
    "  ax.text(0.5, 0.5, equation_text, ha='center', va='center', fontsize=20, fontproperties=fontpath, math_fontfamily='cm')\n",
    "  # To change the font of the subscript and superscript of the equation use the math_fontfamily parameter\n",
    "  # https://matplotlib.org/stable/gallery/text_labels_and_annotations/mathtext_fontfamily_example.html\n",
    "\n",
    "  fig.savefig(filename, dpi=dpi, bbox_inches='tight')  # Adjust DPI and bbox as needed\n",
    "  return Image.open(filename)  # Return the generated image\n",
    "\n",
    "# Example usage\n",
    "equation_text = r\"H$ _2$O + CO$ _2$ $\\longrightarrow$ H$ _2$O + O$ _2$ + Br$_{3}$$^{-}$ + BO$_{3}$$^{3}$$^{-}$\"\n",
    "font_path = fpath  # Replace with the actual path to your font file\n",
    "\n",
    "# Generate and save the image\n",
    "equation_image = generate_equation_image(equation_text, font_path)\n",
    "equation_image.save(\"equation_with_custom_font.png\")\n",
    "\n",
    "print(\"Equation image saved successfully!\")"
   ]
  },
  {
   "cell_type": "code",
   "execution_count": null,
   "metadata": {},
   "outputs": [],
   "source": [
    "print('matplotlib: {}'.format(matplotlib.__version__))"
   ]
  },
  {
   "cell_type": "code",
   "execution_count": null,
   "metadata": {},
   "outputs": [],
   "source": [
    "'dejavusans', 'dejavuserif', 'cm', 'stix', 'stixsans', 'custom'"
   ]
  },
  {
   "cell_type": "code",
   "execution_count": 13,
   "metadata": {},
   "outputs": [
    {
     "name": "stdout",
     "output_type": "stream",
     "text": [
      "dejavusans\n"
     ]
    }
   ],
   "source": [
    "import matplotlib.pyplot as plt\n",
    "print(plt.rcParams[\"mathtext.fontset\"])"
   ]
  },
  {
   "cell_type": "code",
   "execution_count": 19,
   "metadata": {},
   "outputs": [
    {
     "ename": "AttributeError",
     "evalue": "module 'matplotlib.font_manager' has no attribute '__rebuild'",
     "output_type": "error",
     "traceback": [
      "\u001b[1;31m---------------------------------------------------------------------------\u001b[0m",
      "\u001b[1;31mAttributeError\u001b[0m                            Traceback (most recent call last)",
      "Cell \u001b[1;32mIn[19], line 3\u001b[0m\n\u001b[0;32m      1\u001b[0m \u001b[38;5;28;01mfrom\u001b[39;00m \u001b[38;5;21;01mmatplotlib\u001b[39;00m \u001b[38;5;28;01mimport\u001b[39;00m font_manager\n\u001b[0;32m      2\u001b[0m \u001b[38;5;66;03m# Rebuild font cache\u001b[39;00m\n\u001b[1;32m----> 3\u001b[0m \u001b[43mfont_manager\u001b[49m\u001b[38;5;241;43m.\u001b[39;49m\u001b[43m__rebuild\u001b[49m()\n",
      "\u001b[1;31mAttributeError\u001b[0m: module 'matplotlib.font_manager' has no attribute '__rebuild'"
     ]
    }
   ],
   "source": [
    "from matplotlib import font_manager\n",
    "# Rebuild font cache\n",
    "font_manager.__rebuild()"
   ]
  },
  {
   "cell_type": "code",
   "execution_count": null,
   "metadata": {},
   "outputs": [],
   "source": []
  }
 ],
 "metadata": {
  "language_info": {
   "name": "python"
  }
 },
 "nbformat": 4,
 "nbformat_minor": 2
}
