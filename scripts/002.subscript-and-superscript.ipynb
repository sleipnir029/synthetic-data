{
 "cells": [
  {
   "cell_type": "code",
   "execution_count": null,
   "metadata": {},
   "outputs": [],
   "source": [
    "import matplotlib.pyplot as plt\n",
    "from PIL import Image\n",
    "\n",
    "def generate_equation(equation_text):\n",
    "  \"\"\"\n",
    "  Generates a matplotlib figure with the given equation.\n",
    "  \"\"\"\n",
    "  fig, ax = plt.subplots()\n",
    "  ax.text(0.5, 0.5, equation_text, ha='center', va='center', fontsize=20)\n",
    "  ax.axis('off')  # Hide axes for a cleaner image\n",
    "  return fig\n",
    "\n",
    "def generate_equation_image(equation_text, filename=\"equation.png\", dpi=300):\n",
    "  \"\"\"\n",
    "  Generates an image of the equation using matplotlib and saves it.\n",
    "  \"\"\"\n",
    "  fig = generate_equation(equation_text)\n",
    "  fig.savefig(filename, dpi=dpi, bbox_inches='tight')  # Adjust DPI and bbox as needed\n",
    "  return Image.open(filename)  # Return the generated image\n",
    "\n",
    "# Example usage\n",
    "equation_text = r\"H$ _2$O + CO$ _2$ $\\longrightarrow$ H$ _2$O + O$ _2$\"  # Use raw strings for proper formatting\n",
    "\n",
    "# Generate and save the image\n",
    "equation_image = generate_equation_image(equation_text)\n",
    "equation_image.save(\"equation_with_image.png\")\n",
    "\n",
    "print(\"Equation image saved successfully!\")\n"
   ]
  },
  {
   "cell_type": "markdown",
   "metadata": {},
   "source": [
    "### New code"
   ]
  },
  {
   "cell_type": "code",
   "execution_count": 18,
   "metadata": {},
   "outputs": [
    {
     "name": "stdout",
     "output_type": "stream",
     "text": [
      "Equation image saved successfully!\n"
     ]
    },
    {
     "data": {
      "image/png": "[encoded data removed]",
      "text/plain": [
       "<Figure size 640x480 with 1 Axes>"
      ]
     },
     "metadata": {},
     "output_type": "display_data"
    }
   ],
   "source": [
    "import matplotlib.pyplot as plt\n",
    "from PIL import Image\n",
    "from itertools import chain  # Import chain from itertools\n",
    "\n",
    "import matplotlib as mpl\n",
    "from pathlib import Path\n",
    "\n",
    "fpath = Path(mpl.get_data_path(), \"fonts/ttf/HelloKetta.ttf\")  # Just add the font in this directory C:\\Users\\User\\anaconda3\\envs\\synData\\Lib\\site-packages\\matplotlib\\mpl-data\\fonts\\ttf\n",
    "# fix link - https://matplotlib.org/stable/gallery/text_labels_and_annotations/font_file.html\n",
    "\n",
    "\n",
    "def generate_equation_image(equation_text, font_path, filename=\"equation.png\", dpi=300):\n",
    "  \"\"\"\n",
    "  Generates an image of the equation using matplotlib and saves it.\n",
    "  \"\"\"\n",
    "  fig, ax = plt.subplots()\n",
    "  #ax.text(0.5, 0.5, equation_text, ha='center', va='center', fontsize=20)\n",
    "  ax.axis('off')  # Hide axes for a cleaner image\n",
    "\n",
    "  # Set custom font for all axes elements using tick_params\n",
    "  ax.tick_params(labelfontfamily=font_path)\n",
    "\n",
    "  # Define fontpath before usage (assuming you have the path)\n",
    "  fontpath = font_path  # Replace with the actual path to your font file\n",
    "\n",
    "  ax.text(0.5, 0.5, equation_text, ha='center', va='center', fontsize=20, fontproperties=fontpath, math_fontfamily='cm')\n",
    "\n",
    "  fig.savefig(filename, dpi=dpi, bbox_inches='tight')  # Adjust DPI and bbox as needed\n",
    "  return Image.open(filename)  # Return the generated image\n",
    "\n",
    "# Example usage\n",
    "equation_text = r\"H$ _2$O + CO$ _2$ $\\longrightarrow$ H$ _2$O + O$ _2$\"\n",
    "font_path = fpath  # Replace with the actual path to your font file\n",
    "\n",
    "# Generate and save the image\n",
    "equation_image = generate_equation_image(equation_text, font_path)\n",
    "equation_image.save(\"equation_with_custom_font.png\")\n",
    "\n",
    "print(\"Equation image saved successfully!\")"
   ]
  },
  {
   "cell_type": "code",
   "execution_count": null,
   "metadata": {},
   "outputs": [],
   "source": [
    "print('matplotlib: {}'.format(matplotlib.__version__))"
   ]
  },
  {
   "cell_type": "code",
   "execution_count": null,
   "metadata": {},
   "outputs": [],
   "source": [
    "'dejavusans', 'dejavuserif', 'cm', 'stix', 'stixsans', 'custom'"
   ]
  },
  {
   "cell_type": "code",
   "execution_count": 13,
   "metadata": {},
   "outputs": [
    {
     "name": "stdout",
     "output_type": "stream",
     "text": [
      "dejavusans\n"
     ]
    }
   ],
   "source": [
    "import matplotlib.pyplot as plt\n",
    "print(plt.rcParams[\"mathtext.fontset\"])"
   ]
  },
  {
   "cell_type": "code",
   "execution_count": null,
   "metadata": {},
   "outputs": [],
   "source": []
  }
 ],
 "metadata": {
  "language_info": {
   "name": "python"
  }
 },
 "nbformat": 4,
 "nbformat_minor": 2
}
